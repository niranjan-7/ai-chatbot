{
  "nbformat": 4,
  "nbformat_minor": 0,
  "metadata": {
    "colab": {
      "provenance": [],
      "include_colab_link": true
    },
    "kernelspec": {
      "name": "python3",
      "display_name": "Python 3"
    },
    "language_info": {
      "name": "python"
    }
  },
  "cells": [
    {
      "cell_type": "markdown",
      "metadata": {
        "id": "view-in-github",
        "colab_type": "text"
      },
      "source": [
        "<a href=\"https://colab.research.google.com/github/niranjan-7/ai-chatbot/blob/main/ai_Chatbot.ipynb\" target=\"_parent\"><img src=\"https://colab.research.google.com/assets/colab-badge.svg\" alt=\"Open In Colab\"/></a>"
      ]
    },
    {
      "cell_type": "code",
      "source": [
        "!pip install tflearn"
      ],
      "metadata": {
        "colab": {
          "base_uri": "https://localhost:8080/"
        },
        "id": "kTOTH1c5MrcD",
        "outputId": "12f9037d-777c-4683-e29b-3100613dde93"
      },
      "execution_count": null,
      "outputs": [
        {
          "output_type": "stream",
          "name": "stdout",
          "text": [
            "Looking in indexes: https://pypi.org/simple, https://us-python.pkg.dev/colab-wheels/public/simple/\n",
            "Collecting tflearn\n",
            "  Downloading tflearn-0.5.0.tar.gz (107 kB)\n",
            "\u001b[K     |████████████████████████████████| 107 kB 25.2 MB/s \n",
            "\u001b[?25hRequirement already satisfied: numpy in /usr/local/lib/python3.7/dist-packages (from tflearn) (1.21.6)\n",
            "Requirement already satisfied: six in /usr/local/lib/python3.7/dist-packages (from tflearn) (1.15.0)\n",
            "Requirement already satisfied: Pillow in /usr/local/lib/python3.7/dist-packages (from tflearn) (7.1.2)\n",
            "Building wheels for collected packages: tflearn\n",
            "  Building wheel for tflearn (setup.py) ... \u001b[?25l\u001b[?25hdone\n",
            "  Created wheel for tflearn: filename=tflearn-0.5.0-py3-none-any.whl size=127299 sha256=1da1707bf2b31e317afa51d28ec0b4034e5270d530847650a3b29281ea45604a\n",
            "  Stored in directory: /root/.cache/pip/wheels/5f/14/2e/1d8e28cc47a5a931a2fb82438c9e37ef9246cc6a3774520271\n",
            "Successfully built tflearn\n",
            "Installing collected packages: tflearn\n",
            "Successfully installed tflearn-0.5.0\n"
          ]
        }
      ]
    },
    {
      "cell_type": "code",
      "execution_count": null,
      "metadata": {
        "id": "xvaMlW-T2ETK",
        "colab": {
          "base_uri": "https://localhost:8080/"
        },
        "outputId": "bda93a32-305b-4b98-9cbe-5a3329e5a603"
      },
      "outputs": [
        {
          "output_type": "stream",
          "name": "stdout",
          "text": [
            "[nltk_data] Downloading package punkt to /root/nltk_data...\n",
            "[nltk_data]   Unzipping tokenizers/punkt.zip.\n",
            "WARNING:tensorflow:From /usr/local/lib/python3.7/dist-packages/tensorflow/python/compat/v2_compat.py:107: disable_resource_variables (from tensorflow.python.ops.variable_scope) is deprecated and will be removed in a future version.\n",
            "Instructions for updating:\n",
            "non-resource variables are not supported in the long term\n"
          ]
        }
      ],
      "source": [
        "import nltk\n",
        "nltk.download(\"punkt\")\n",
        "from nltk.stem.lancaster import LancasterStemmer\n",
        "stemmer = LancasterStemmer()\n",
        "\n",
        "\n",
        "import tensorflow as tf  \n",
        "import numpy as np\n",
        "import tflearn       \n",
        "import random\n",
        "import json"
      ]
    },
    {
      "cell_type": "code",
      "source": [
        "with open(\"/content/sample_data/intents.json\") as json_data: \n",
        "    intents = json.load(json_data)"
      ],
      "metadata": {
        "id": "qnIY3av32OFR"
      },
      "execution_count": null,
      "outputs": []
    },
    {
      "cell_type": "code",
      "source": [
        "print(intents)"
      ],
      "metadata": {
        "colab": {
          "base_uri": "https://localhost:8080/"
        },
        "id": "-x6UK3_aL8Oa",
        "outputId": "2a08fce2-17e1-4fd9-9cda-2bc11b467b55"
      },
      "execution_count": null,
      "outputs": [
        {
          "output_type": "stream",
          "name": "stdout",
          "text": [
            "{'intents': [{'tag': 'greeting', 'patterns': ['Hi', 'How are you', 'Is anyone there?', 'Hello', 'Good day'], 'responses': ['Hello, thanks for visiting', 'Good to see you again', 'Hi there, how can I help?'], 'context_set': ''}, {'tag': 'goodbye', 'patterns': ['Bye', 'See you later', 'Goodbye'], 'responses': ['See you later, thanks for visiting', 'Have a nice day', 'Bye! Come back again soon.']}, {'tag': 'thanks', 'patterns': ['Thanks', 'Thank you', \"That's helpful\"], 'responses': ['Happy to help!', 'Any time!', 'My pleasure']}, {'tag': 'hours', 'patterns': ['What hours are you open?', 'What are your hours?', 'When are you open?', 'When is the time to contact ?', 'At what time do you provide services ?'], 'responses': [\"We're open every day from 9AM to 9PM\", 'Our working hours are 9AM to 9PM every day']}, {'tag': 'location', 'patterns': ['What is your location?', 'Where are you located?', 'What is your address?', 'Where is your company situated?', 'How can we contact you ?', 'How can I contact you?'], 'responses': ['We are on BH-5, LPU', 'Our company is situated in BH-5, LPU', 'We work from BH-5 LPU', 'Our location is BH-5 LPU']}, {'tag': 'payments', 'patterns': ['Do you take credit cards?', 'Do you accept Mastercard?', 'Are you cash only?', 'Which credit cards do you accept?'], 'responses': ['We accept VISA, Mastercard and AMEX', 'We accept most major credit cards']}, {'tag': 'services', 'patterns': ['What are the services that you provide?', 'Which services do you provide?', 'How can you help us?', 'What can you do?'], 'responses': ['We provide Web Penetration Testing,Android Penetration Testing,Docker Penetration Testing,Vulnerability Assessment,Cyber Crime investigation and many more services.']}, {'tag': 'training', 'patterns': ['Do you provide industrial training?', 'Do you deliver webinars on cybersecurity?', 'Do you provide Summer training?', 'Do you conduct workshops?'], 'responses': ['Yes, we provide trainings in Cybersecurity', 'Yes, we conduct workshops on Cybersecurity', 'Yes, we conduct webinars on cybersecurity'], 'context_set': 'training'}, {'tag': 'Cryptography', 'patterns': ['What is mean by cryptography?', 'What is Cryptography?'], 'responses': ['Cryptography is the practice and study of techniques for securing information and communication mainly to protect the data from third parties that the data is not intended for.']}, {'tag': 'Firewall', 'patterns': [' What is a Firewall and why is it used?', 'what is firewall?', 'what firewall does?'], 'responses': ['A Firewall is a network security system set on the boundaries of the system/network that monitors and controls network traffic. Firewalls are mainly used to protect the system/network from viruses, worms, malware, etc. Firewalls can also be to prevent remote access and content filtering.']}, {'tag': 'Penetration Testing', 'patterns': ['What is Penetration Testing?', 'explain Penetration Testing?', 'What is  in cyber security?'], 'responses': ['Penetration Testing is the process of finding vulnerabilities on the target. In this case, the organization would have set up all the security measures they could think of and would want to test if there is any other way that their system/network can be hacked.']}, {'tag': 'Vulnerability Assessment', 'patterns': ['What is Vulnerability Assessment?', 'explain Vulnerability Assessment?', 'What is VA in cyber security?'], 'responses': ['Vulnerability Assessment is the process of finding flaws on the target. Here, the organization knows that their system/network has flaws or weaknesses and want to find these flaws and prioritize the flaws for fixing.']}, {'tag': 'traceroute', 'patterns': ['What is traceroute?', 'explain traceroute?'], 'responses': ['Traceroute is a tool that shows the path of a packet. It lists all the points (mainly routers) that the packet passes through. This is used mostly when the packet is not reaching its destination. Traceroute is used to check where the connection stops or breaks to identify the point of failure.']}, {'tag': 'VPN', 'patterns': ['What is a VPN?', 'explain vpn?', 'why vpn is used?'], 'responses': ['VPN stands for Virtual Private Network. It is used to create a safe and encrypted connection. When you use a VPN, the data from the client is sent to a point in the VPN where it is encrypted and then sent through the internet to another point. At this point, the data is decrypted and sent to the server. When the server sends a response, the response is sent to a point in the VPN where it is encrypted and this encrypted data is sent to another point in the VPN where it is decrypted. And finally, the decrypted data is sent to the client. The whole point of using a VPN is to ensure encrypted data transfer.']}, {'tag': 'black hat hackers', 'patterns': ['what are black hat hackers?', 'black hat hackers?'], 'responses': ['Black hat hackers are known for having vast knowledge about breaking into computer networks. They can write malware which can be used to gain access to these systems. This type of hackers misuse their skills to steal information or use the hacked system for malicious purpose.']}, {'tag': 'White hat hackers', 'patterns': ['what are White hat hackers?', 'ethical hackers?'], 'responses': ['White hat hackers use their powers for good deeds and so they are also called Ethical Hackers. These are mostly hired by companies as a security specialist that attempts to find and fix vulnerabilities and security holes in the systems. They use their skills to help make the security better. ']}, {'tag': 'Grey hat hackers', 'patterns': ['what are Grey hat hackers ?', 'Grey hat hackers?'], 'responses': ['Grey hat hackers are an amalgamation of a white hat and black hat hacker. They look for system vulnerabilities without the owner�s permission. If they find any vulnerabilities, they report it to the owner. Unlike Black hat hackers, they do not exploit the vulnerabilities found.']}, {'tag': 'ARP', 'patterns': ['What is an ARP and how does it work?', 'what is ARP?', 'arp in cyber security?'], 'responses': ['Address Resolution Protocol (ARP)is a protocol for mapping an Internet Protocol address (IP address) to a physical machine address that is recognized in the local network. When an incoming packet destined for a host machine on a particular local area network arrives at a gateway, the gateway asks the ARP program to find a physical host or MAC address that matches the IP address.']}, {'tag': 'Botnet', 'patterns': ['What is a Botnet?', 'Bonet?'], 'responses': ['A Botnet is a number of devices connected to the internet where each device has one or more bots running on it. The bots on the devices and malicious scripts used to hack a victim. Botnets can be used to steal data, send spams and execute a DDOS attack.']}, {'tag': 'Secure Sockets Layers', 'patterns': ['ssl?', 'explain ssl?', 'What is ssl?'], 'responses': [\"SSL is meant to verify the sender's identity but it doesn�t search for anything more than that. SSL can help you track the person you are talking to but that can also be tricked at times.\"]}, {'tag': 'Transport Layer Security', 'patterns': ['tls?', 'explain tls?', 'What is tls?'], 'responses': ['TLS is also an identification tool just like SSL, but it offers better security features. It provides additional protection to the data and hence SSL and TLS are often used together for better protection.']}, {'tag': 'Cognitive Cybersecurity', 'patterns': ['What is Cognitive Cybersecurity?', 'explain Cognitive Cybersecurity?', 'Cognitive Cybersecurity?'], 'responses': ['Cognitive Cybersecurity is an application of AI technologies patterned on human thought processes to detect threats and protect physical and digital systems. Self-learning security systems use data mining, pattern recognition, and natural language processing to simulate the human brain, albeit in a high-powered computer model.']}, {'tag': 'Encryption different from Hashing', 'patterns': ['How is Encryption different from Hashing?', 'Encryption different from Hashing?'], 'responses': ['Both Encryption and Hashing are used to convert readable data into an unreadable format. The difference is that the encrypted data can be converted back to original data by the process of decryption but the hashed data cannot be converted back to original data.']}, {'tag': 'encryption', 'patterns': ['What is encryption?', 'encryption?', 'explain encryption?'], 'responses': ['Encryption is a way of scrambling data so that only authorized parties can understand the information. In technical terms, it is the process of converting plaintext to ciphertext. In simpler terms, encryption takes readable data and alters it so that it appears random. Encryption requires the use of an encryption key: a set of mathematical values that both the sender and the recipient of an encrypted message know.']}, {'tag': 'Decryption', 'patterns': ['What is Decryption?', 'Decryption?', 'explain Decryption?'], 'responses': ['Decryption is the process of taking encoded or encrypted text or other data and converting it back into text that you or the computer can read and understand. This term could be used to describe a method of unencrypting the data manually or unencrypting the data using the proper codes or keys.']}, {'tag': 'Hashing', 'patterns': ['What is Hashing?', 'Hashing?', 'explain Hashing?'], 'responses': ['Hashing is an algorithm performed on data such as a file or message to produce a number called a hash. The hash is used to verify that data is not modified, tampered with, or corrupted. In other words, you can verify the data has maintained integrity.']}, {'tag': 'cybersecurity', 'patterns': ['what is cybersecurity?', 'cybersecurity?'], 'responses': ['Cybersecurity refers to the protection of hardware, software, and data from attackers. The primary purpose of cyber security is to protect against cyberattacks like accessing, changing, or destroying sensitive information.']}, {'tag': 'Forward Secrecy', 'patterns': ['What is forward secrecy?', 'Forward Secrecy?'], 'responses': ['Forward Secrecy is a system that uses ephemeral session keys to do the actual encryption of TLS data so that even if the server�s private key were to be compromised, an attacker could not use it to decrypt captured data that had been sent to that server in the past.']}, {'tag': 'boot sector virus', 'patterns': ['what is boot sector virus?', 'how boot sector virus effects?'], 'responses': ['A boot sector virus is a type of virus that infects the boot sector of floppy disks or the Master Boot Record (MBR) of hard disks (some infect the boot sector of the hard disk instead of the MBR). ... While boot sector viruses infect at a BIOS level, they use DOS commands to spread to other floppy disks.']}, {'tag': 'direct action virus', 'patterns': ['what is direct action virus?', 'how direct action virus effects?'], 'responses': ['A direct action virus is a type of file infector virus that works by attaching itself to an .exe or .com file when installed or executed. Once this occurs, the virus can spread to other existing files and can render them inaccessible.']}, {'tag': 'resident virus', 'patterns': ['what is resident virus?', 'how resident virus effects?'], 'responses': ['A resident virus is a computer virus that stores itself within memory, allowing it to infect other files even when the originally infected program is no longer running.']}, {'tag': 'multipartite virus', 'patterns': ['what is multipartite virus?', 'how multipartite virus effects?'], 'responses': [\"A multipartite virus is a computer virus that's able to attack both the boot sector and executable files of an infected computer. If you're familiar with cyber threats, you probably know that most computer viruses either attack the boot sector or executable files.\"]}, {'tag': 'spacefiller virus', 'patterns': ['what is spacefiller virus?', 'how spacefiller virus effects?'], 'responses': ['Alternatively referred to as a cavity virus, a spacefiller virus is a rare type of computer virus that attempts to install itself by filling in empty sections of a file. By only using empty sections of a file, the virus can infect a file without the size of the file changing, making it more difficult to detect.']}, {'tag': ' file infector virus', 'patterns': ['Do you provide home delivery?', 'Do you deliver the food?', 'What are the home delivery options?'], 'responses': ['A file infector virus attaches itself to executable programs, such as word processors, spreadsheet applications, and computer games. When the virus has infected a program, it propagates to infect other programs on the system, as well as other systems that use a shared infected program. ']}, {'tag': 'computer virus', 'patterns': ['what is computer virus?', 'What do you mean by computer virus?', 'Define Computer Virus'], 'responses': ['A computer virus, much like a flu virus, is designed to spread from host to host and has the ability to replicate itself. Similarly, in the same way that flu viruses cannot reproduce without a host cell, computer viruses cannot reproduce and spread without programming such as a file or document.']}, {'tag': 'Features of a Cybersecurity', 'patterns': ['Important Features of a Cybersecurity?', 'Why we need CyberSecurity ?', 'Whta are features of CyberSecurity?'], 'responses': ['1.Good Analytics, 2.Coverage of your biggest external threats, 3.A defense against internal threats, 4.Compliance, 5.Manage risk across your entire ecosystem, 6.Threat prevention, detection, and response, 7.Continuous monitoring']}, {'tag': 'Benefits of cybersecurity', 'patterns': ['What are the Benefits of cybersecurity?', 'uses of cyber security?'], 'responses': ['1.Business protection against malware, ransomware, phishing and social engineering, 2.Protection for data and networks, 3.Prevention of unauthorized users, 4.Improves recovery time after a breach, 5.Protection for end-users']}]}\n"
          ]
        }
      ]
    },
    {
      "cell_type": "code",
      "source": [
        "words=[]\n",
        "documents = []\n",
        "classes = []\n",
        "\n",
        "\n",
        "# This list will be used for ignoring all unwanted punctuation marks.\n",
        "ignore = [\"?\"]\n",
        "\n",
        "# Starting a loop through each intent in intents[\"patterns\"]\n",
        "for intent in intents[\"intents\"]:\n",
        "    for pattern in intent[\"patterns\"]:\n",
        "        \n",
        "        # tokenizing each and every word in the sentence by using word tokenizer and storing in w\n",
        "        w = nltk.word_tokenize(pattern) \n",
        "        #print(w)\n",
        "        \n",
        "        # Adding tokenized words to words empty list that we created\n",
        "        words.extend(w) \n",
        "        #print(words)\n",
        "        \n",
        "        # Adding words to documents with tag given in intents file\n",
        "        documents.append((w, intent[\"tag\"]))\n",
        "        #print(documents)\n",
        "        \n",
        "        # Adding only tag to our classes list\n",
        "        if intent[\"tag\"] not in classes:      \n",
        "            classes.append(intent[\"tag\"])  #If tag is not present in classes[] then it will append into it.\n",
        "            print(classes)"
      ],
      "metadata": {
        "id": "1CR5mL8k2RL3",
        "colab": {
          "base_uri": "https://localhost:8080/"
        },
        "outputId": "9d8c592b-3dce-4fa2-9849-1fca60ba2808"
      },
      "execution_count": null,
      "outputs": [
        {
          "output_type": "stream",
          "name": "stdout",
          "text": [
            "['greeting']\n",
            "['greeting', 'goodbye']\n",
            "['greeting', 'goodbye', 'thanks']\n",
            "['greeting', 'goodbye', 'thanks', 'hours']\n",
            "['greeting', 'goodbye', 'thanks', 'hours', 'location']\n",
            "['greeting', 'goodbye', 'thanks', 'hours', 'location', 'payments']\n",
            "['greeting', 'goodbye', 'thanks', 'hours', 'location', 'payments', 'services']\n",
            "['greeting', 'goodbye', 'thanks', 'hours', 'location', 'payments', 'services', 'training']\n",
            "['greeting', 'goodbye', 'thanks', 'hours', 'location', 'payments', 'services', 'training', 'Cryptography']\n",
            "['greeting', 'goodbye', 'thanks', 'hours', 'location', 'payments', 'services', 'training', 'Cryptography', 'Firewall']\n",
            "['greeting', 'goodbye', 'thanks', 'hours', 'location', 'payments', 'services', 'training', 'Cryptography', 'Firewall', 'Penetration Testing']\n",
            "['greeting', 'goodbye', 'thanks', 'hours', 'location', 'payments', 'services', 'training', 'Cryptography', 'Firewall', 'Penetration Testing', 'Vulnerability Assessment']\n",
            "['greeting', 'goodbye', 'thanks', 'hours', 'location', 'payments', 'services', 'training', 'Cryptography', 'Firewall', 'Penetration Testing', 'Vulnerability Assessment', 'traceroute']\n",
            "['greeting', 'goodbye', 'thanks', 'hours', 'location', 'payments', 'services', 'training', 'Cryptography', 'Firewall', 'Penetration Testing', 'Vulnerability Assessment', 'traceroute', 'VPN']\n",
            "['greeting', 'goodbye', 'thanks', 'hours', 'location', 'payments', 'services', 'training', 'Cryptography', 'Firewall', 'Penetration Testing', 'Vulnerability Assessment', 'traceroute', 'VPN', 'black hat hackers']\n",
            "['greeting', 'goodbye', 'thanks', 'hours', 'location', 'payments', 'services', 'training', 'Cryptography', 'Firewall', 'Penetration Testing', 'Vulnerability Assessment', 'traceroute', 'VPN', 'black hat hackers', 'White hat hackers']\n",
            "['greeting', 'goodbye', 'thanks', 'hours', 'location', 'payments', 'services', 'training', 'Cryptography', 'Firewall', 'Penetration Testing', 'Vulnerability Assessment', 'traceroute', 'VPN', 'black hat hackers', 'White hat hackers', 'Grey hat hackers']\n",
            "['greeting', 'goodbye', 'thanks', 'hours', 'location', 'payments', 'services', 'training', 'Cryptography', 'Firewall', 'Penetration Testing', 'Vulnerability Assessment', 'traceroute', 'VPN', 'black hat hackers', 'White hat hackers', 'Grey hat hackers', 'ARP']\n",
            "['greeting', 'goodbye', 'thanks', 'hours', 'location', 'payments', 'services', 'training', 'Cryptography', 'Firewall', 'Penetration Testing', 'Vulnerability Assessment', 'traceroute', 'VPN', 'black hat hackers', 'White hat hackers', 'Grey hat hackers', 'ARP', 'Botnet']\n",
            "['greeting', 'goodbye', 'thanks', 'hours', 'location', 'payments', 'services', 'training', 'Cryptography', 'Firewall', 'Penetration Testing', 'Vulnerability Assessment', 'traceroute', 'VPN', 'black hat hackers', 'White hat hackers', 'Grey hat hackers', 'ARP', 'Botnet', 'Secure Sockets Layers']\n",
            "['greeting', 'goodbye', 'thanks', 'hours', 'location', 'payments', 'services', 'training', 'Cryptography', 'Firewall', 'Penetration Testing', 'Vulnerability Assessment', 'traceroute', 'VPN', 'black hat hackers', 'White hat hackers', 'Grey hat hackers', 'ARP', 'Botnet', 'Secure Sockets Layers', 'Transport Layer Security']\n",
            "['greeting', 'goodbye', 'thanks', 'hours', 'location', 'payments', 'services', 'training', 'Cryptography', 'Firewall', 'Penetration Testing', 'Vulnerability Assessment', 'traceroute', 'VPN', 'black hat hackers', 'White hat hackers', 'Grey hat hackers', 'ARP', 'Botnet', 'Secure Sockets Layers', 'Transport Layer Security', 'Cognitive Cybersecurity']\n",
            "['greeting', 'goodbye', 'thanks', 'hours', 'location', 'payments', 'services', 'training', 'Cryptography', 'Firewall', 'Penetration Testing', 'Vulnerability Assessment', 'traceroute', 'VPN', 'black hat hackers', 'White hat hackers', 'Grey hat hackers', 'ARP', 'Botnet', 'Secure Sockets Layers', 'Transport Layer Security', 'Cognitive Cybersecurity', 'Encryption different from Hashing']\n",
            "['greeting', 'goodbye', 'thanks', 'hours', 'location', 'payments', 'services', 'training', 'Cryptography', 'Firewall', 'Penetration Testing', 'Vulnerability Assessment', 'traceroute', 'VPN', 'black hat hackers', 'White hat hackers', 'Grey hat hackers', 'ARP', 'Botnet', 'Secure Sockets Layers', 'Transport Layer Security', 'Cognitive Cybersecurity', 'Encryption different from Hashing', 'encryption']\n",
            "['greeting', 'goodbye', 'thanks', 'hours', 'location', 'payments', 'services', 'training', 'Cryptography', 'Firewall', 'Penetration Testing', 'Vulnerability Assessment', 'traceroute', 'VPN', 'black hat hackers', 'White hat hackers', 'Grey hat hackers', 'ARP', 'Botnet', 'Secure Sockets Layers', 'Transport Layer Security', 'Cognitive Cybersecurity', 'Encryption different from Hashing', 'encryption', 'Decryption']\n",
            "['greeting', 'goodbye', 'thanks', 'hours', 'location', 'payments', 'services', 'training', 'Cryptography', 'Firewall', 'Penetration Testing', 'Vulnerability Assessment', 'traceroute', 'VPN', 'black hat hackers', 'White hat hackers', 'Grey hat hackers', 'ARP', 'Botnet', 'Secure Sockets Layers', 'Transport Layer Security', 'Cognitive Cybersecurity', 'Encryption different from Hashing', 'encryption', 'Decryption', 'Hashing']\n",
            "['greeting', 'goodbye', 'thanks', 'hours', 'location', 'payments', 'services', 'training', 'Cryptography', 'Firewall', 'Penetration Testing', 'Vulnerability Assessment', 'traceroute', 'VPN', 'black hat hackers', 'White hat hackers', 'Grey hat hackers', 'ARP', 'Botnet', 'Secure Sockets Layers', 'Transport Layer Security', 'Cognitive Cybersecurity', 'Encryption different from Hashing', 'encryption', 'Decryption', 'Hashing', 'cybersecurity']\n",
            "['greeting', 'goodbye', 'thanks', 'hours', 'location', 'payments', 'services', 'training', 'Cryptography', 'Firewall', 'Penetration Testing', 'Vulnerability Assessment', 'traceroute', 'VPN', 'black hat hackers', 'White hat hackers', 'Grey hat hackers', 'ARP', 'Botnet', 'Secure Sockets Layers', 'Transport Layer Security', 'Cognitive Cybersecurity', 'Encryption different from Hashing', 'encryption', 'Decryption', 'Hashing', 'cybersecurity', 'Forward Secrecy']\n",
            "['greeting', 'goodbye', 'thanks', 'hours', 'location', 'payments', 'services', 'training', 'Cryptography', 'Firewall', 'Penetration Testing', 'Vulnerability Assessment', 'traceroute', 'VPN', 'black hat hackers', 'White hat hackers', 'Grey hat hackers', 'ARP', 'Botnet', 'Secure Sockets Layers', 'Transport Layer Security', 'Cognitive Cybersecurity', 'Encryption different from Hashing', 'encryption', 'Decryption', 'Hashing', 'cybersecurity', 'Forward Secrecy', 'boot sector virus']\n",
            "['greeting', 'goodbye', 'thanks', 'hours', 'location', 'payments', 'services', 'training', 'Cryptography', 'Firewall', 'Penetration Testing', 'Vulnerability Assessment', 'traceroute', 'VPN', 'black hat hackers', 'White hat hackers', 'Grey hat hackers', 'ARP', 'Botnet', 'Secure Sockets Layers', 'Transport Layer Security', 'Cognitive Cybersecurity', 'Encryption different from Hashing', 'encryption', 'Decryption', 'Hashing', 'cybersecurity', 'Forward Secrecy', 'boot sector virus', 'direct action virus']\n",
            "['greeting', 'goodbye', 'thanks', 'hours', 'location', 'payments', 'services', 'training', 'Cryptography', 'Firewall', 'Penetration Testing', 'Vulnerability Assessment', 'traceroute', 'VPN', 'black hat hackers', 'White hat hackers', 'Grey hat hackers', 'ARP', 'Botnet', 'Secure Sockets Layers', 'Transport Layer Security', 'Cognitive Cybersecurity', 'Encryption different from Hashing', 'encryption', 'Decryption', 'Hashing', 'cybersecurity', 'Forward Secrecy', 'boot sector virus', 'direct action virus', 'resident virus']\n",
            "['greeting', 'goodbye', 'thanks', 'hours', 'location', 'payments', 'services', 'training', 'Cryptography', 'Firewall', 'Penetration Testing', 'Vulnerability Assessment', 'traceroute', 'VPN', 'black hat hackers', 'White hat hackers', 'Grey hat hackers', 'ARP', 'Botnet', 'Secure Sockets Layers', 'Transport Layer Security', 'Cognitive Cybersecurity', 'Encryption different from Hashing', 'encryption', 'Decryption', 'Hashing', 'cybersecurity', 'Forward Secrecy', 'boot sector virus', 'direct action virus', 'resident virus', 'multipartite virus']\n",
            "['greeting', 'goodbye', 'thanks', 'hours', 'location', 'payments', 'services', 'training', 'Cryptography', 'Firewall', 'Penetration Testing', 'Vulnerability Assessment', 'traceroute', 'VPN', 'black hat hackers', 'White hat hackers', 'Grey hat hackers', 'ARP', 'Botnet', 'Secure Sockets Layers', 'Transport Layer Security', 'Cognitive Cybersecurity', 'Encryption different from Hashing', 'encryption', 'Decryption', 'Hashing', 'cybersecurity', 'Forward Secrecy', 'boot sector virus', 'direct action virus', 'resident virus', 'multipartite virus', 'spacefiller virus']\n",
            "['greeting', 'goodbye', 'thanks', 'hours', 'location', 'payments', 'services', 'training', 'Cryptography', 'Firewall', 'Penetration Testing', 'Vulnerability Assessment', 'traceroute', 'VPN', 'black hat hackers', 'White hat hackers', 'Grey hat hackers', 'ARP', 'Botnet', 'Secure Sockets Layers', 'Transport Layer Security', 'Cognitive Cybersecurity', 'Encryption different from Hashing', 'encryption', 'Decryption', 'Hashing', 'cybersecurity', 'Forward Secrecy', 'boot sector virus', 'direct action virus', 'resident virus', 'multipartite virus', 'spacefiller virus', ' file infector virus']\n",
            "['greeting', 'goodbye', 'thanks', 'hours', 'location', 'payments', 'services', 'training', 'Cryptography', 'Firewall', 'Penetration Testing', 'Vulnerability Assessment', 'traceroute', 'VPN', 'black hat hackers', 'White hat hackers', 'Grey hat hackers', 'ARP', 'Botnet', 'Secure Sockets Layers', 'Transport Layer Security', 'Cognitive Cybersecurity', 'Encryption different from Hashing', 'encryption', 'Decryption', 'Hashing', 'cybersecurity', 'Forward Secrecy', 'boot sector virus', 'direct action virus', 'resident virus', 'multipartite virus', 'spacefiller virus', ' file infector virus', 'computer virus']\n",
            "['greeting', 'goodbye', 'thanks', 'hours', 'location', 'payments', 'services', 'training', 'Cryptography', 'Firewall', 'Penetration Testing', 'Vulnerability Assessment', 'traceroute', 'VPN', 'black hat hackers', 'White hat hackers', 'Grey hat hackers', 'ARP', 'Botnet', 'Secure Sockets Layers', 'Transport Layer Security', 'Cognitive Cybersecurity', 'Encryption different from Hashing', 'encryption', 'Decryption', 'Hashing', 'cybersecurity', 'Forward Secrecy', 'boot sector virus', 'direct action virus', 'resident virus', 'multipartite virus', 'spacefiller virus', ' file infector virus', 'computer virus', 'Features of a Cybersecurity']\n",
            "['greeting', 'goodbye', 'thanks', 'hours', 'location', 'payments', 'services', 'training', 'Cryptography', 'Firewall', 'Penetration Testing', 'Vulnerability Assessment', 'traceroute', 'VPN', 'black hat hackers', 'White hat hackers', 'Grey hat hackers', 'ARP', 'Botnet', 'Secure Sockets Layers', 'Transport Layer Security', 'Cognitive Cybersecurity', 'Encryption different from Hashing', 'encryption', 'Decryption', 'Hashing', 'cybersecurity', 'Forward Secrecy', 'boot sector virus', 'direct action virus', 'resident virus', 'multipartite virus', 'spacefiller virus', ' file infector virus', 'computer virus', 'Features of a Cybersecurity', 'Benefits of cybersecurity']\n"
          ]
        }
      ]
    },
    {
      "cell_type": "code",
      "source": [
        "#Performing Stemming by using stemmer.stem() nd lower each word \n",
        "#Running loop in words[] and ignoring punctuation marks present in ignore[]\n",
        "\n",
        "words = [stemmer.stem(w.lower()) for w in words if w not in ignore]  \n",
        "words = sorted(list(set(words)))  #Removing Duplicates in words[]\n",
        "\n",
        "#Removing Duplicate Classes\n",
        "classes = sorted(list(set(classes)))\n",
        "\n",
        "#Printing length of lists we formed\n",
        "print(len(documents),\"Documents \\n\")\n",
        "print(len(classes),\"Classes \\n\")\n",
        "print(len(words), \"Stemmed Words \")"
      ],
      "metadata": {
        "id": "TZ7kXulW2gmH",
        "colab": {
          "base_uri": "https://localhost:8080/"
        },
        "outputId": "dc6aa26d-d640-49a8-e41b-d92c3eb76ac0"
      },
      "execution_count": null,
      "outputs": [
        {
          "output_type": "stream",
          "name": "stdout",
          "text": [
            "106 Documents \n",
            "\n",
            "37 Classes \n",
            "\n",
            "118 Stemmed Words \n"
          ]
        }
      ]
    },
    {
      "cell_type": "code",
      "source": [
        "training = []\n",
        "output = []\n",
        "\n",
        "#Creating empty array for output\n",
        "output_empty = [0] * len(classes)\n",
        "\n",
        "for doc in documents:\n",
        "    bag = [] \n",
        "    pattern_words = doc[0]\n",
        "    #print(pattern_words)\n",
        "    \n",
        "    pattern_words = [stemmer.stem(word.lower()) for word in pattern_words]  \n",
        "    \n",
        "    for w in words:\n",
        "        bag.append(1) if w in pattern_words else bag.append(0)\n",
        "        \n",
        "    output_row = list(output_empty)\n",
        "    output_row[classes.index(doc[1])] =1 \n",
        "    training.append([bag, output_row])"
      ],
      "metadata": {
        "id": "8v0kr0AA2i9x"
      },
      "execution_count": null,
      "outputs": []
    },
    {
      "cell_type": "code",
      "source": [
        "random.shuffle(training) \n",
        "training = np.array(training) \n",
        "\n",
        "train_x = list(training[:,0])\n",
        "train_y = list(training[:,1])"
      ],
      "metadata": {
        "id": "VT0fvgzd2jpp",
        "colab": {
          "base_uri": "https://localhost:8080/"
        },
        "outputId": "d38982c5-cdc9-4b66-f37d-7b2276cb6a1b"
      },
      "execution_count": null,
      "outputs": [
        {
          "output_type": "stream",
          "name": "stderr",
          "text": [
            "/usr/local/lib/python3.7/dist-packages/ipykernel_launcher.py:2: VisibleDeprecationWarning: Creating an ndarray from ragged nested sequences (which is a list-or-tuple of lists-or-tuples-or ndarrays with different lengths or shapes) is deprecated. If you meant to do this, you must specify 'dtype=object' when creating the ndarray.\n",
            "  \n"
          ]
        }
      ]
    },
    {
      "cell_type": "code",
      "source": [
        "# tf.reset_default_graph() #Reset Underlying Graph data\n",
        "tf.compat.v1.reset_default_graph()\n",
        "#Building our own Neural Network\n",
        "net = tflearn.input_data(shape=[None, len(train_x[0])])\n",
        "net = tflearn.fully_connected(net, 10)\n",
        "net = tflearn.fully_connected(net, 10)\n",
        "net = tflearn.fully_connected(net, len(train_y[0]), activation=\"softmax\")\n",
        "net = tflearn.regression(net)\n",
        "\n",
        "\n",
        "model = tflearn.DNN(net, tensorboard_dir=\"tflearn_logs\") \n",
        "\n",
        "model.fit(train_x, train_y, n_epoch=1000, batch_size=8, show_metric=True) \n",
        "model.save(\"model.tflearn\") #Saving the model"
      ],
      "metadata": {
        "id": "P1Ue26ma2lyk",
        "colab": {
          "base_uri": "https://localhost:8080/"
        },
        "outputId": "4df01b5a-434d-4737-abb5-6add890d722a"
      },
      "execution_count": null,
      "outputs": [
        {
          "output_type": "stream",
          "name": "stdout",
          "text": [
            "Training Step: 13999  | total loss: \u001b[1m\u001b[32m0.00548\u001b[0m\u001b[0m | time: 0.096s\n",
            "| Adam | epoch: 1000 | loss: 0.00548 - acc: 1.0000 -- iter: 104/106\n",
            "Training Step: 14000  | total loss: \u001b[1m\u001b[32m0.00526\u001b[0m\u001b[0m | time: 0.123s\n",
            "| Adam | epoch: 1000 | loss: 0.00526 - acc: 1.0000 -- iter: 106/106\n",
            "--\n",
            "INFO:tensorflow:/content/model.tflearn is not in all_model_checkpoint_paths. Manually adding it.\n"
          ]
        }
      ]
    },
    {
      "cell_type": "code",
      "source": [
        "\n",
        "import pickle\n",
        "\n",
        "pickle.dump({\"words\":words, \"classes\":classes, \"train_x\":train_x, \"train_y\":train_y}, open(\"training_data\", \"wb\"))"
      ],
      "metadata": {
        "id": "9Gmcs3lq2qK_"
      },
      "execution_count": null,
      "outputs": []
    },
    {
      "cell_type": "code",
      "source": [
        "data = pickle.load(open(\"training_data\",\"rb\"))\n",
        "words = data['words']\n",
        "classes = data['classes']\n",
        "train_x = data['train_x']\n",
        "train_y = data['train_y']"
      ],
      "metadata": {
        "id": "wTQrwpFM2sJc"
      },
      "execution_count": null,
      "outputs": []
    },
    {
      "cell_type": "code",
      "source": [
        "with open(\"/content/sample_data/intents.json\") as json_data: \n",
        "    intents = json.load(json_data)"
      ],
      "metadata": {
        "id": "q9pM-dLV2uUM"
      },
      "execution_count": null,
      "outputs": []
    },
    {
      "cell_type": "code",
      "source": [
        "model.load(\"./model.tflearn\")"
      ],
      "metadata": {
        "id": "6NmryasC2vCD",
        "colab": {
          "base_uri": "https://localhost:8080/"
        },
        "outputId": "d0605eb8-b22f-4704-c8fb-abc63f2da8a5"
      },
      "execution_count": null,
      "outputs": [
        {
          "output_type": "stream",
          "name": "stdout",
          "text": [
            "INFO:tensorflow:Restoring parameters from /content/model.tflearn\n"
          ]
        }
      ]
    },
    {
      "cell_type": "code",
      "source": [
        "def clean_up_sentence(sentence):\n",
        "    \n",
        "    sentence_words = nltk.word_tokenize(sentence)\n",
        "    \n",
        "    sentence_words= [stemmer.stem(word.lower()) for word in sentence_words]\n",
        "\n",
        "    return sentence_words\n",
        "\n",
        "def bow(sentence, words, show_details=False):\n",
        "    \n",
        "    sentence_words = clean_up_sentence(sentence)\n",
        "    \n",
        "    bag = [0]*len(words)\n",
        "    for s in sentence_words:\n",
        "        for i,w in enumerate(words):\n",
        "            if w == s:\n",
        "                bag[i] = 1\n",
        "                if show_details:\n",
        "                    print(\"Found in bag: %s\"% w)\n",
        "    return(np.array(bag))"
      ],
      "metadata": {
        "id": "pB78QoAR20wf"
      },
      "execution_count": null,
      "outputs": []
    },
    {
      "cell_type": "code",
      "source": [
        "context = {} \n",
        "\n",
        "ERROR_THRESHOLD = 0.25\n",
        "def classify(sentence):\n",
        "    \n",
        "    results = model.predict([bow(sentence, words)])[0]\n",
        "    \n",
        "    results = [[i,r] for i,r in enumerate(results) if r>ERROR_THRESHOLD]\n",
        "    \n",
        "    results.sort(key=lambda x: x[1], reverse=True)\n",
        "    return_list = []\n",
        "    for r in results:\n",
        "        return_list.append((classes[r[0]], r[1]))\n",
        "    return return_list\n",
        "\n",
        "def response(sentence, userID='123', show_details=False):\n",
        "    results = classify(sentence)\n",
        "    if results:\n",
        "        while results:\n",
        "            for i in intents['intents']:\n",
        "                \n",
        "                if i['tag'] == results[0][0]:\n",
        "                    \n",
        "                    if 'context_set' in i:\n",
        "                        if show_details: print ('context:', i['context_set'])\n",
        "                        context[userID] = i['context_set']\n",
        "\n",
        "                    if not 'context_filter' in i or \\\n",
        "                        (userID in context and 'context_filter' in i and i['context_filter'] == context[userID]):\n",
        "                        if show_details: print ('tag:', i['tag'])\n",
        "                        \n",
        "                        return print(random.choice(i['responses']))\n",
        "\n",
        "            results.pop(0)"
      ],
      "metadata": {
        "id": "jPEyiiz026mu"
      },
      "execution_count": null,
      "outputs": []
    },
    {
      "cell_type": "code",
      "source": [
        "response(\"what kind of location do you stay in?\")"
      ],
      "metadata": {
        "colab": {
          "base_uri": "https://localhost:8080/"
        },
        "id": "l_QXt-hGPykp",
        "outputId": "d11b66d6-1d67-4ef3-a3a8-9a3a91f483f5"
      },
      "execution_count": null,
      "outputs": [
        {
          "output_type": "stream",
          "name": "stdout",
          "text": [
            "Any time!\n"
          ]
        }
      ]
    }
  ]
}